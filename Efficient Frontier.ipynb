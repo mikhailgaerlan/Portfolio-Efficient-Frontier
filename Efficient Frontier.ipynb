{
 "cells": [
  {
   "cell_type": "code",
   "execution_count": 159,
   "metadata": {},
   "outputs": [],
   "source": [
    "import yfinance as yf\n",
    "import pandas as pd\n",
    "import numpy as np\n",
    "import matplotlib.pyplot as plt"
   ]
  },
  {
   "cell_type": "code",
   "execution_count": 51,
   "metadata": {},
   "outputs": [],
   "source": [
    "my_file = open('Stocks_List.txt','r')\n",
    "stocks = my_file.read().split('\\n')\n",
    "stock_analysis = ['AAPL', 'MSFT', 'PG', 'GE']\n",
    "time_frame = '1y'"
   ]
  },
  {
   "cell_type": "code",
   "execution_count": 53,
   "metadata": {},
   "outputs": [],
   "source": [
    "tickers = {stock: yf.Ticker(stock) for stock in stocks}"
   ]
  },
  {
   "cell_type": "code",
   "execution_count": 54,
   "metadata": {},
   "outputs": [],
   "source": [
    "data = pd.DataFrame({stock: tickers[stock].history(period=time_frame)['Close'].pct_change() for stock in stock_analysis})"
   ]
  },
  {
   "cell_type": "code",
   "execution_count": 156,
   "metadata": {},
   "outputs": [],
   "source": [
    "mu = np.array([data.mean()]).T\n",
    "coVa = np.array(data.cov())\n",
    "returns = np.linspace(min(mu),max(mu),num=100)\n",
    "one = np.ones((len(mu),1))\n",
    "\n",
    "coVainv = np.linalg.inv(coVa)\n",
    "\n",
    "a = np.dot(mu.T,np.dot(coVainv,mu))[0][0]\n",
    "b = np.dot(mu.T,np.dot(coVainv,one))[0][0]\n",
    "c = np.dot(one.T,np.dot(coVainv,one))[0][0]\n",
    "\n",
    "Am = [[a,b],[b,c]]\n",
    "\n",
    "Ainv = np.linalg.inv(Am)\n",
    "\n",
    "\n",
    "def get_weights(return0):\n",
    "    rhs = np.dot(Ainv,np.array([[return0],[1]]))\n",
    "    lhs = np.dot(coVainv,np.concatenate((mu,one),axis=1))\n",
    "    return np.dot(lhs,rhs)\n",
    "\n",
    "def get_ret_var(return0):\n",
    "    weights = get_weights(return0)\n",
    "    return [np.dot(weights.T,np.dot(coVa,weights))[0][0],np.dot(weights.T,mu)[0][0]]"
   ]
  },
  {
   "cell_type": "code",
   "execution_count": 164,
   "metadata": {},
   "outputs": [],
   "source": [
    "frontier = np.array([get_ret_var(return0[0]) for return0 in returns])"
   ]
  },
  {
   "cell_type": "code",
   "execution_count": 167,
   "metadata": {},
   "outputs": [
    {
     "data": {
      "text/plain": [
       "[<matplotlib.lines.Line2D at 0x7fc137f8b6a0>]"
      ]
     },
     "execution_count": 167,
     "metadata": {},
     "output_type": "execute_result"
    },
    {
     "data": {
      "image/png": "[encoded data removed]",
      "text/plain": [
       "<Figure size 432x288 with 1 Axes>"
      ]
     },
     "metadata": {
      "needs_background": "light"
     },
     "output_type": "display_data"
    }
   ],
   "source": [
    "x,y = frontier.T\n",
    "plt.plot(x,y)"
   ]
  },
  {
   "cell_type": "code",
   "execution_count": null,
   "metadata": {},
   "outputs": [],
   "source": []
  }
 ],
 "metadata": {
  "kernelspec": {
   "display_name": "Python 3",
   "language": "python",
   "name": "python3"
  },
  "language_info": {
   "codemirror_mode": {
    "name": "ipython",
    "version": 3
   },
   "file_extension": ".py",
   "mimetype": "text/x-python",
   "name": "python",
   "nbconvert_exporter": "python",
   "pygments_lexer": "ipython3",
   "version": "3.7.1"
  }
 },
 "nbformat": 4,
 "nbformat_minor": 2
}
